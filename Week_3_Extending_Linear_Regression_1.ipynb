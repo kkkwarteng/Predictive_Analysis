{
 "cells": [
  {
   "cell_type": "code",
   "execution_count": 1,
   "metadata": {},
   "outputs": [],
   "source": [
    "# Computer Session Week 3: Extending Linear regression in Python\n",
    "\n",
    "# Import all libraries needed\n",
    "# Pandas for data manupilation\n",
    "# Numpy for statistics and numerial analysis\n",
    "# Matplotlib.pyplot for plots and graphs\n",
    "#Statsmodels.formula.api for linear regression\n",
    "\n",
    "import pandas as pd\n",
    "import numpy as np\n",
    "import matplotlib.pyplot as plt\n",
    "import statsmodels.formula.api as smf\n",
    "import statsmodels.stats.api as sms\n",
    "from statsmodels.stats.diagnostic import het_white\n",
    "from statsmodels.compat import lzip \n",
    "import statsmodels.api as sm\n"
   ]
  },
  {
   "cell_type": "code",
   "execution_count": 2,
   "metadata": {},
   "outputs": [
    {
     "data": {
      "text/html": [
       "<div>\n",
       "<style scoped>\n",
       "    .dataframe tbody tr th:only-of-type {\n",
       "        vertical-align: middle;\n",
       "    }\n",
       "\n",
       "    .dataframe tbody tr th {\n",
       "        vertical-align: top;\n",
       "    }\n",
       "\n",
       "    .dataframe thead th {\n",
       "        text-align: right;\n",
       "    }\n",
       "</style>\n",
       "<table border=\"1\" class=\"dataframe\">\n",
       "  <thead>\n",
       "    <tr style=\"text-align: right;\">\n",
       "      <th></th>\n",
       "      <th>wage</th>\n",
       "      <th>hours</th>\n",
       "      <th>iq</th>\n",
       "      <th>kww</th>\n",
       "      <th>educ</th>\n",
       "      <th>exper</th>\n",
       "      <th>tenure</th>\n",
       "      <th>age</th>\n",
       "      <th>married</th>\n",
       "      <th>black</th>\n",
       "      <th>south</th>\n",
       "      <th>urban</th>\n",
       "      <th>sibs</th>\n",
       "      <th>lwage</th>\n",
       "    </tr>\n",
       "  </thead>\n",
       "  <tbody>\n",
       "    <tr>\n",
       "      <th>count</th>\n",
       "      <td>935.000000</td>\n",
       "      <td>935.000000</td>\n",
       "      <td>935.000000</td>\n",
       "      <td>935.000000</td>\n",
       "      <td>935.000000</td>\n",
       "      <td>935.000000</td>\n",
       "      <td>935.000000</td>\n",
       "      <td>935.000000</td>\n",
       "      <td>935.000000</td>\n",
       "      <td>935.000000</td>\n",
       "      <td>935.000000</td>\n",
       "      <td>935.000000</td>\n",
       "      <td>935.000000</td>\n",
       "      <td>935.000000</td>\n",
       "    </tr>\n",
       "    <tr>\n",
       "      <th>mean</th>\n",
       "      <td>957.945455</td>\n",
       "      <td>43.929412</td>\n",
       "      <td>101.282353</td>\n",
       "      <td>35.744385</td>\n",
       "      <td>13.468449</td>\n",
       "      <td>11.563636</td>\n",
       "      <td>7.234225</td>\n",
       "      <td>33.080214</td>\n",
       "      <td>0.893048</td>\n",
       "      <td>0.128342</td>\n",
       "      <td>0.341176</td>\n",
       "      <td>0.717647</td>\n",
       "      <td>2.941176</td>\n",
       "      <td>6.779004</td>\n",
       "    </tr>\n",
       "    <tr>\n",
       "      <th>std</th>\n",
       "      <td>404.360822</td>\n",
       "      <td>7.224256</td>\n",
       "      <td>15.052636</td>\n",
       "      <td>7.638788</td>\n",
       "      <td>2.196654</td>\n",
       "      <td>4.374586</td>\n",
       "      <td>5.075206</td>\n",
       "      <td>3.107803</td>\n",
       "      <td>0.309217</td>\n",
       "      <td>0.334650</td>\n",
       "      <td>0.474358</td>\n",
       "      <td>0.450385</td>\n",
       "      <td>2.306254</td>\n",
       "      <td>0.421144</td>\n",
       "    </tr>\n",
       "    <tr>\n",
       "      <th>min</th>\n",
       "      <td>115.000000</td>\n",
       "      <td>20.000000</td>\n",
       "      <td>50.000000</td>\n",
       "      <td>12.000000</td>\n",
       "      <td>9.000000</td>\n",
       "      <td>1.000000</td>\n",
       "      <td>0.000000</td>\n",
       "      <td>28.000000</td>\n",
       "      <td>0.000000</td>\n",
       "      <td>0.000000</td>\n",
       "      <td>0.000000</td>\n",
       "      <td>0.000000</td>\n",
       "      <td>0.000000</td>\n",
       "      <td>4.744932</td>\n",
       "    </tr>\n",
       "    <tr>\n",
       "      <th>25%</th>\n",
       "      <td>669.000000</td>\n",
       "      <td>40.000000</td>\n",
       "      <td>92.000000</td>\n",
       "      <td>31.000000</td>\n",
       "      <td>12.000000</td>\n",
       "      <td>8.000000</td>\n",
       "      <td>3.000000</td>\n",
       "      <td>30.000000</td>\n",
       "      <td>1.000000</td>\n",
       "      <td>0.000000</td>\n",
       "      <td>0.000000</td>\n",
       "      <td>0.000000</td>\n",
       "      <td>1.000000</td>\n",
       "      <td>6.505783</td>\n",
       "    </tr>\n",
       "    <tr>\n",
       "      <th>50%</th>\n",
       "      <td>905.000000</td>\n",
       "      <td>40.000000</td>\n",
       "      <td>102.000000</td>\n",
       "      <td>37.000000</td>\n",
       "      <td>12.000000</td>\n",
       "      <td>11.000000</td>\n",
       "      <td>7.000000</td>\n",
       "      <td>33.000000</td>\n",
       "      <td>1.000000</td>\n",
       "      <td>0.000000</td>\n",
       "      <td>0.000000</td>\n",
       "      <td>1.000000</td>\n",
       "      <td>2.000000</td>\n",
       "      <td>6.807935</td>\n",
       "    </tr>\n",
       "    <tr>\n",
       "      <th>75%</th>\n",
       "      <td>1160.000000</td>\n",
       "      <td>48.000000</td>\n",
       "      <td>112.000000</td>\n",
       "      <td>41.000000</td>\n",
       "      <td>16.000000</td>\n",
       "      <td>15.000000</td>\n",
       "      <td>11.000000</td>\n",
       "      <td>36.000000</td>\n",
       "      <td>1.000000</td>\n",
       "      <td>0.000000</td>\n",
       "      <td>1.000000</td>\n",
       "      <td>1.000000</td>\n",
       "      <td>4.000000</td>\n",
       "      <td>7.056175</td>\n",
       "    </tr>\n",
       "    <tr>\n",
       "      <th>max</th>\n",
       "      <td>3078.000000</td>\n",
       "      <td>80.000000</td>\n",
       "      <td>145.000000</td>\n",
       "      <td>56.000000</td>\n",
       "      <td>18.000000</td>\n",
       "      <td>23.000000</td>\n",
       "      <td>22.000000</td>\n",
       "      <td>38.000000</td>\n",
       "      <td>1.000000</td>\n",
       "      <td>1.000000</td>\n",
       "      <td>1.000000</td>\n",
       "      <td>1.000000</td>\n",
       "      <td>14.000000</td>\n",
       "      <td>8.032035</td>\n",
       "    </tr>\n",
       "  </tbody>\n",
       "</table>\n",
       "</div>"
      ],
      "text/plain": [
       "              wage       hours          iq         kww        educ  \\\n",
       "count   935.000000  935.000000  935.000000  935.000000  935.000000   \n",
       "mean    957.945455   43.929412  101.282353   35.744385   13.468449   \n",
       "std     404.360822    7.224256   15.052636    7.638788    2.196654   \n",
       "min     115.000000   20.000000   50.000000   12.000000    9.000000   \n",
       "25%     669.000000   40.000000   92.000000   31.000000   12.000000   \n",
       "50%     905.000000   40.000000  102.000000   37.000000   12.000000   \n",
       "75%    1160.000000   48.000000  112.000000   41.000000   16.000000   \n",
       "max    3078.000000   80.000000  145.000000   56.000000   18.000000   \n",
       "\n",
       "            exper      tenure         age     married       black       south  \\\n",
       "count  935.000000  935.000000  935.000000  935.000000  935.000000  935.000000   \n",
       "mean    11.563636    7.234225   33.080214    0.893048    0.128342    0.341176   \n",
       "std      4.374586    5.075206    3.107803    0.309217    0.334650    0.474358   \n",
       "min      1.000000    0.000000   28.000000    0.000000    0.000000    0.000000   \n",
       "25%      8.000000    3.000000   30.000000    1.000000    0.000000    0.000000   \n",
       "50%     11.000000    7.000000   33.000000    1.000000    0.000000    0.000000   \n",
       "75%     15.000000   11.000000   36.000000    1.000000    0.000000    1.000000   \n",
       "max     23.000000   22.000000   38.000000    1.000000    1.000000    1.000000   \n",
       "\n",
       "            urban        sibs       lwage  \n",
       "count  935.000000  935.000000  935.000000  \n",
       "mean     0.717647    2.941176    6.779004  \n",
       "std      0.450385    2.306254    0.421144  \n",
       "min      0.000000    0.000000    4.744932  \n",
       "25%      0.000000    1.000000    6.505783  \n",
       "50%      1.000000    2.000000    6.807935  \n",
       "75%      1.000000    4.000000    7.056175  \n",
       "max      1.000000   14.000000    8.032035  "
      ]
     },
     "execution_count": 2,
     "metadata": {},
     "output_type": "execute_result"
    }
   ],
   "source": [
    "# loading the data: start with a name, the command and path name\n",
    "\n",
    "dmat2=pd.read_excel('C:/PythonData/nls80.xls')  ## replace the path name to the one in your pc\n",
    "\n",
    "dmat2.head()  # use to check the data are correctly uploaded\n",
    "\n",
    "dmat2.describe() # This reports key statistics for all the variables in the data.\n"
   ]
  },
  {
   "cell_type": "code",
   "execution_count": 3,
   "metadata": {},
   "outputs": [
    {
     "name": "stdout",
     "output_type": "stream",
     "text": [
      "---------------------------------Distributions of Key Variables---------------------------\n"
     ]
    },
    {
     "data": {
      "image/png": "[encoded data removed]",
      "text/plain": [
       "<Figure size 432x288 with 1 Axes>"
      ]
     },
     "metadata": {
      "needs_background": "light"
     },
     "output_type": "display_data"
    },
    {
     "data": {
      "image/png": "[encoded data removed]",
      "text/plain": [
       "<Figure size 432x288 with 1 Axes>"
      ]
     },
     "metadata": {
      "needs_background": "light"
     },
     "output_type": "display_data"
    },
    {
     "data": {
      "image/png": "[encoded data removed]",
      "text/plain": [
       "<Figure size 432x288 with 1 Axes>"
      ]
     },
     "metadata": {
      "needs_background": "light"
     },
     "output_type": "display_data"
    },
    {
     "data": {
      "image/png": "[encoded data removed]",
      "text/plain": [
       "<Figure size 432x288 with 1 Axes>"
      ]
     },
     "metadata": {
      "needs_background": "light"
     },
     "output_type": "display_data"
    },
    {
     "name": "stdout",
     "output_type": "stream",
     "text": [
      "---------------------------------End of Distributions of Key Variables---------------------------\n"
     ]
    }
   ],
   "source": [
    "# Refer to the above line to check for desctiptive statistics\n",
    "\n",
    "# Historgram and distribution of the data of interest - Use this line you are interested to graphically explore the data\n",
    "\n",
    "print (\"---------------------------------Distributions of Key Variables---------------------------\")\n",
    "\n",
    "plt.figure(1)\n",
    "plt.hist(dmat2['wage'], 20, edgecolor='black', linewidth=1.2)  \n",
    "plt.xlabel('wage')\n",
    "plt.ylabel('Density')\n",
    "plt.title('Wage Distribution')\n",
    "plt.show()\n",
    "\n",
    "\n",
    "plt.figure(1)\n",
    "plt.hist(dmat2['lwage'], 20, edgecolor='black', linewidth=1.2)  \n",
    "plt.xlabel('Natural Log of Wage')\n",
    "plt.ylabel('Density')\n",
    "plt.title('Log of Wage Distribution')\n",
    "plt.show()\n",
    "\n",
    "\n",
    "plt.figure(1)\n",
    "plt.hist(dmat2['educ'], 20, edgecolor='black', linewidth=1.2)\n",
    "plt.xlabel('educ')\n",
    "plt.ylabel('Density')\n",
    "plt.title('Years of Education Distribution')\n",
    "plt.show()\n",
    "\n",
    "\n",
    "plt.figure(1)\n",
    "plt.hist(dmat2['hours'], 20, edgecolor='black', linewidth=1.2)\n",
    "plt.xlabel('hours')\n",
    "plt.ylabel('Density')\n",
    "plt.title('Number of Worked Hours Distribution')\n",
    "plt.show()\n",
    "\n",
    "\n",
    "print (\"---------------------------------End of Distributions of Key Variables---------------------------\")\n",
    "\n"
   ]
  },
  {
   "cell_type": "code",
   "execution_count": 4,
   "metadata": {},
   "outputs": [
    {
     "name": "stdout",
     "output_type": "stream",
     "text": [
      "---------------------------------Scatter Plots:Log Wage against Other variables ----------------\n"
     ]
    },
    {
     "data": {
      "image/png": "[encoded data removed]",
      "text/plain": [
       "<Figure size 432x288 with 1 Axes>"
      ]
     },
     "metadata": {
      "needs_background": "light"
     },
     "output_type": "display_data"
    },
    {
     "data": {
      "image/png": "[encoded data removed]",
      "text/plain": [
       "<Figure size 432x288 with 1 Axes>"
      ]
     },
     "metadata": {
      "needs_background": "light"
     },
     "output_type": "display_data"
    },
    {
     "name": "stdout",
     "output_type": "stream",
     "text": [
      "---------------------------------End of Scatter Plots ---------------------------\n"
     ]
    }
   ],
   "source": [
    "# Scatter plots:\n",
    "# There are two purposes here: the first is to explore the relationship between lwage and other forcing variables\n",
    "# The second purpose is to explore the source of heteroskedasticity if any. \n",
    "\n",
    "print (\"---------------------------------Scatter Plots:Log Wage against Other variables ----------------\")\n",
    "\n",
    "plt.figure(2)\n",
    "plt.scatter(dmat2['hours'], dmat2['lwage'], color='black') \n",
    "\n",
    "# optional: adding fitted line \n",
    "m, b = np.polyfit(dmat2['hours'], dmat2['lwage'], 1)  # m = slope, b=intercept\n",
    "plt.plot(dmat2['hours'], m*dmat2['hours'] + b, color='red')\n",
    "\n",
    "# end of option\n",
    "\n",
    "\n",
    "plt.xlabel('Hours Worked Per Week')\n",
    "plt.ylabel('Hourly Wage')\n",
    "plt.title('Scatter Plot:log wages vs hours worked')\n",
    "plt.show()\n",
    "\n",
    "\n",
    "\n",
    "plt.figure(2)\n",
    "plt.scatter(dmat2['educ'], dmat2['lwage'], color='black') \n",
    "\n",
    "# optional: adding fitted line \n",
    "m, b = np.polyfit(dmat2['educ'], dmat2['lwage'], 1)  # m = slope, b=intercept\n",
    "plt.plot(dmat2['educ'], m*dmat2['educ'] + b, color='red')\n",
    "\n",
    "# end of option\n",
    "\n",
    "\n",
    "plt.xlabel('Education')\n",
    "plt.ylabel('Hourly Wages')\n",
    "plt.title('Scatter Plot: log wages vs education')\n",
    "plt.show()\n",
    "\n",
    "print (\"---------------------------------End of Scatter Plots ---------------------------\")\n"
   ]
  },
  {
   "cell_type": "code",
   "execution_count": 5,
   "metadata": {},
   "outputs": [
    {
     "name": "stdout",
     "output_type": "stream",
     "text": [
      "******************* Linear Regression Output **********************************\n",
      "                            OLS Regression Results                            \n",
      "==============================================================================\n",
      "Dep. Variable:                  lwage   R-squared:                       0.103\n",
      "Model:                            OLS   Adj. R-squared:                  0.101\n",
      "Method:                 Least Squares   F-statistic:                     53.62\n",
      "Date:                Wed, 20 Oct 2021   Prob (F-statistic):           9.12e-23\n",
      "Time:                        11:40:20   Log-Likelihood:                -466.72\n",
      "No. Observations:                 935   AIC:                             939.4\n",
      "Df Residuals:                     932   BIC:                             954.0\n",
      "Df Model:                           2                                         \n",
      "Covariance Type:            nonrobust                                         \n",
      "==============================================================================\n",
      "                 coef    std err          t      P>|t|      [0.025      0.975]\n",
      "------------------------------------------------------------------------------\n",
      "Intercept      6.1504      0.109     56.534      0.000       5.937       6.364\n",
      "educ           0.0612      0.006     10.243      0.000       0.049       0.073\n",
      "hours         -0.0044      0.002     -2.448      0.015      -0.008      -0.001\n",
      "==============================================================================\n",
      "Omnibus:                       28.032   Durbin-Watson:                   1.765\n",
      "Prob(Omnibus):                  0.000   Jarque-Bera (JB):               34.519\n",
      "Skew:                          -0.340   Prob(JB):                     3.19e-08\n",
      "Kurtosis:                       3.651   Cond. No.                         388.\n",
      "==============================================================================\n",
      "\n",
      "Notes:\n",
      "[1] Standard Errors assume that the covariance matrix of the errors is correctly specified.\n",
      "*******************************************************************************\n"
     ]
    }
   ],
   "source": [
    "# Next is running a linear regression using OLS estimator\n",
    "\n",
    "# The linear regression is used only on two varaibles for now. We will extend the analysis later\n",
    "# The point here is to learn how to run regression and interpret Python output\n",
    "# The equation: wage=b_0+b_1*educ+b_2*hours+u\n",
    "\n",
    "\n",
    "formula='lwage ~ educ + hours'  # linear equation, the first variable is dependent and the rest are explanatory\n",
    "# Please pay attenting to the wording used to describe educ and hours: they are explanatory and not independent. \n",
    "# the latter requires very strong assumptions to confirm. In our case, we do not know.\n",
    "\n",
    "results=smf.ols(formula, dmat2).fit()  # the OLS library, we called the output 'results'\n",
    "\n",
    "\n",
    "print('******************* Linear Regression Output **********************************')\n",
    "\n",
    "print(results.summary())\n",
    "\n",
    "print('*******************************************************************************')\n",
    "\n"
   ]
  },
  {
   "cell_type": "code",
   "execution_count": 6,
   "metadata": {},
   "outputs": [
    {
     "name": "stdout",
     "output_type": "stream",
     "text": [
      "*******************Hypothesis Test**********************************\n",
      "testing the restriction educ=0.1 = <F test: F=array([[42.27688524]]), p=1.2897781191757014e-10, df_denom=932, df_num=1>\n",
      "********************************************************************\n",
      "*******************Hypothesis Test**********************************\n",
      "<F test: F=array([[42.27688524]]), p=1.2897781191757014e-10, df_denom=932, df_num=1>\n",
      "********************************************************************\n"
     ]
    }
   ],
   "source": [
    "#The following is optional. You may finn testing restrictions very useful when doing empirical work\n",
    "# Example:Suppose now you have claim that education should increase the wage rate by 10%.\n",
    "# We wish to test this claim using the model above.\n",
    "# We have to run linear restriction test using F test. Here is how is it done.\n",
    "\n",
    "hypotheses='educ=0.1' # set educ slope to equal 10%. Think why is set this way?  \n",
    "\n",
    "f_test=results.f_test(hypotheses) # call the results and use them to compute the F test\n",
    "\n",
    "\n",
    "print('*******************Hypothesis Test**********************************')\n",
    "print(\"testing the restriction educ=0.1 =\", f_test)\n",
    "print('********************************************************************')\n",
    "\n",
    "\n",
    "# You can also try the alternative way\n",
    "\n",
    "hypotheses='educ-0.1=0' # set educ slope to equal 10%. Think why is set this way?  \n",
    "\n",
    "f_testa=results.f_test(hypotheses) # call the results and use them to compute the F test\n",
    "\n",
    "\n",
    "print('*******************Hypothesis Test**********************************')\n",
    "print(f_testa)\n",
    "print('********************************************************************')\n",
    "\n",
    "\n",
    "# This what you have been doing in Data Analytics. Now we need to go beyond the basics.\n",
    "# First, does your regression satisfy the two assumptions we set in theory? \n",
    "# If it fails to do so, then the OLS estimator is not BLUE and we cannot rely on it.\n",
    "\n",
    "# Start with the error term: Heteroskedasticity\n",
    "# Step 1: Inspect residuals, Step 2: formally test them\n"
   ]
  },
  {
   "cell_type": "code",
   "execution_count": 41,
   "metadata": {},
   "outputs": [
    {
     "name": "stdout",
     "output_type": "stream",
     "text": [
      "---------------------------------Plot of Residuals ---------------------------\n",
      "Use the plot to visually inspect the presence of autocorrelation\n"
     ]
    },
    {
     "data": {
      "image/png": "[encoded data removed]",
      "text/plain": [
       "<Figure size 432x288 with 1 Axes>"
      ]
     },
     "metadata": {
      "needs_background": "light"
     },
     "output_type": "display_data"
    },
    {
     "name": "stdout",
     "output_type": "stream",
     "text": [
      "The plot of residuals shows a random patterns across individuals. This may suggest the presence of no autocorrelation\n",
      "---------------------------------End of Plot of Residuals ---------------------------\n"
     ]
    }
   ],
   "source": [
    "# Let's now learn about the properties of the residuals\n",
    "# Begin with plotting residuals \n",
    "# The plot of residuals against observations will help to detect the presence of autocorrelation in the data\n",
    "\n",
    "print (\"---------------------------------Plot of Residuals ---------------------------\")\n",
    "print (\"Use the plot to visually inspect the presence of autocorrelation\")\n",
    "plt.figure(1)\n",
    "plt.plot(results.resid) \n",
    "plt.xlabel('Observations')\n",
    "plt.ylabel('Residuals')\n",
    "plt.title('Line Plot of Residuals')\n",
    "plt.grid(True) # I have added this for me to be able to accurately see the graph\n",
    "plt.show()\n",
    "\n",
    "print(\"The plot of residuals shows a random patterns across individuals. This may suggest the presence of no autocorrelation\")\n",
    "print (\"---------------------------------End of Plot of Residuals ---------------------------\")\n",
    "\n"
   ]
  },
  {
   "cell_type": "code",
   "execution_count": 8,
   "metadata": {},
   "outputs": [
    {
     "name": "stdout",
     "output_type": "stream",
     "text": [
      "2.1753246856826598e-16\n",
      "---------------------------------White Test------------------------------------------\n",
      "[('LM Stat', 12.695550691489338), ('pvalue', 0.026405108745409106), ('f-value', 2.557543032831767), ('f pvalue', 0.026138681933936467)]\n",
      "--------------------------------- End of White Test------------------------------------------\n"
     ]
    }
   ],
   "source": [
    "#Inspecting heteroskedacitiy formally using the white test\n",
    "\n",
    "mean_resid=results.resid.mean()\n",
    "print(mean_resid)\n",
    "\n",
    "\n",
    "\n",
    "print (\"---------------------------------White Test------------------------------------------\")\n",
    "\n",
    "# White test for heteroskedasticity\n",
    "name=['LM Stat', 'pvalue', 'f-value', 'f pvalue' ]\n",
    "white_test =sms.het_white(results.resid,results.model.exog)  # make sure you have the right library\n",
    "\n",
    "print(lzip(name,white_test))\n",
    "\n",
    "     \n",
    "print (\"--------------------------------- End of White Test------------------------------------------\")\n",
    "\n",
    "# If there is heteroskedasticity, then we need to correct it. The previous regression is incorrect\n",
    "# because it is based on the wrong aussmption about the errors and therefore the t statistics are\n",
    "# incorrect.\n",
    "\n",
    "# White Robust Standard Errors\n",
    "\n"
   ]
  },
  {
   "cell_type": "code",
   "execution_count": 10,
   "metadata": {},
   "outputs": [
    {
     "name": "stdout",
     "output_type": "stream",
     "text": [
      "******************* Linear Regression Output **********************************\n",
      "                            OLS Regression Results                            \n",
      "==============================================================================\n",
      "Dep. Variable:                  lwage   R-squared:                       0.103\n",
      "Model:                            OLS   Adj. R-squared:                  0.101\n",
      "Method:                 Least Squares   F-statistic:                     51.39\n",
      "Date:                Wed, 20 Oct 2021   Prob (F-statistic):           6.74e-22\n",
      "Time:                        11:45:00   Log-Likelihood:                -466.72\n",
      "No. Observations:                 935   AIC:                             939.4\n",
      "Df Residuals:                     932   BIC:                             954.0\n",
      "Df Model:                           2                                         \n",
      "Covariance Type:                  HC1                                         \n",
      "==============================================================================\n",
      "                 coef    std err          z      P>|z|      [0.025      0.975]\n",
      "------------------------------------------------------------------------------\n",
      "Intercept      6.1504      0.120     51.450      0.000       5.916       6.385\n",
      "educ           0.0612      0.006     10.059      0.000       0.049       0.073\n",
      "hours         -0.0044      0.002     -2.054      0.040      -0.009      -0.000\n",
      "==============================================================================\n",
      "Omnibus:                       28.032   Durbin-Watson:                   1.765\n",
      "Prob(Omnibus):                  0.000   Jarque-Bera (JB):               34.519\n",
      "Skew:                          -0.340   Prob(JB):                     3.19e-08\n",
      "Kurtosis:                       3.651   Cond. No.                         388.\n",
      "==============================================================================\n",
      "\n",
      "Notes:\n",
      "[1] Standard Errors are heteroscedasticity robust (HC1)\n",
      "*******************************************************************************\n"
     ]
    }
   ],
   "source": [
    "# Restimate the model using White Robust Standard Errors\n",
    "\n",
    "formula='lwage ~ educ + hours'  # linear equation, the first variable is dependent and the rest are explanatory\n",
    "# Please the wording used to describe educ and hours: they are explanatory and not independent. \n",
    "# the latter requires very strong assumptions to confirm. In our case, we do not know.\n",
    "\n",
    "results1=smf.ols(formula, dmat2).fit(cov_type='HC1')  # the OLS library, we called the output 'results'\n",
    "\n",
    "print('******************* Linear Regression Output **********************************')\n",
    "\n",
    "print(results1.summary())\n",
    "\n",
    "print('*******************************************************************************')\n"
   ]
  },
  {
   "cell_type": "code",
   "execution_count": 13,
   "metadata": {},
   "outputs": [
    {
     "name": "stdout",
     "output_type": "stream",
     "text": [
      "---------------------------------BG Test------------------------------------------\n",
      "[('LM Stat', 12.975362037823393), ('pvalue', 0.00031561682417138046), ('f-value', 13.101669478065588), ('f pvalue', 0.00031093250627160275)]\n",
      "--------------------------------- End of BG Test------------------------------------------\n"
     ]
    }
   ],
   "source": [
    "# Testing for autocorrelation using Breusch-Godfrey test\n",
    "   \n",
    "print (\"---------------------------------BG Test------------------------------------------\")\n",
    "\n",
    "# Breusch Godfrey Test\n",
    "name=['LM Stat', 'pvalue', 'f-value', 'f pvalue' ]\n",
    "bg_test =sms.acorr_breusch_godfrey(results, nlags=1, store=False)  # make sure you have the right library\n",
    "\n",
    "print(lzip(name,bg_test))\n",
    "\n",
    "     \n",
    "print (\"--------------------------------- End of BG Test------------------------------------------\")\n",
    "\n"
   ]
  },
  {
   "cell_type": "code",
   "execution_count": 14,
   "metadata": {},
   "outputs": [
    {
     "name": "stdout",
     "output_type": "stream",
     "text": [
      "******************* Linear Regression Output **********************************\n",
      "                            OLS Regression Results                            \n",
      "==============================================================================\n",
      "Dep. Variable:                  lwage   R-squared:                       0.103\n",
      "Model:                            OLS   Adj. R-squared:                  0.101\n",
      "Method:                 Least Squares   F-statistic:                     51.02\n",
      "Date:                Wed, 20 Oct 2021   Prob (F-statistic):           9.44e-22\n",
      "Time:                        11:48:29   Log-Likelihood:                -466.72\n",
      "No. Observations:                 935   AIC:                             939.4\n",
      "Df Residuals:                     932   BIC:                             954.0\n",
      "Df Model:                           2                                         \n",
      "Covariance Type:                  HAC                                         \n",
      "==============================================================================\n",
      "                 coef    std err          z      P>|z|      [0.025      0.975]\n",
      "------------------------------------------------------------------------------\n",
      "Intercept      6.1504      0.120     51.063      0.000       5.914       6.387\n",
      "educ           0.0612      0.006     10.021      0.000       0.049       0.073\n",
      "hours         -0.0044      0.002     -2.049      0.040      -0.009      -0.000\n",
      "==============================================================================\n",
      "Omnibus:                       28.032   Durbin-Watson:                   1.765\n",
      "Prob(Omnibus):                  0.000   Jarque-Bera (JB):               34.519\n",
      "Skew:                          -0.340   Prob(JB):                     3.19e-08\n",
      "Kurtosis:                       3.651   Cond. No.                         388.\n",
      "==============================================================================\n",
      "\n",
      "Notes:\n",
      "[1] Standard Errors are heteroscedasticity and autocorrelation robust (HAC) using 1 lags and with small sample correction\n",
      "*******************************************************************************\n"
     ]
    }
   ],
   "source": [
    "# Correcting for aurocorrelation using Newey West Robust Standard Errors\n",
    "\n",
    "\n",
    "\n",
    "formula='lwage ~ educ + hours'  # linear equation, the first variable is dependent and the rest are explanatory\n",
    "# Please the wording used to describe educ and hours: they are explanatory and not independent. \n",
    "# the latter requires very strong assumptions to confirm. In our case, we do not know.\n",
    "\n",
    "results2=smf.ols(formula, dmat2).fit(cov_type='HAC',cov_kwds={'maxlags':1, 'use_correction':True})  # the OLS library, we called the output 'results'\n",
    "\n",
    "print('******************* Linear Regression Output **********************************')\n",
    "\n",
    "print(results2.summary())\n",
    "\n",
    "print('*******************************************************************************')\n",
    "\n"
   ]
  }
 ],
 "metadata": {
  "kernelspec": {
   "display_name": "Python 3",
   "language": "python",
   "name": "python3"
  },
  "language_info": {
   "codemirror_mode": {
    "name": "ipython",
    "version": 3
   },
   "file_extension": ".py",
   "mimetype": "text/x-python",
   "name": "python",
   "nbconvert_exporter": "python",
   "pygments_lexer": "ipython3",
   "version": "3.8.5"
  }
 },
 "nbformat": 4,
 "nbformat_minor": 2
}
