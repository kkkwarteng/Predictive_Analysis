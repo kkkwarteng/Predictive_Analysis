{
 "cells": [
  {
   "cell_type": "code",
   "execution_count": null,
   "metadata": {},
   "outputs": [],
   "source": [
    "# You need to install a new package before running this code. \n",
    "# See below or use anaconda prompt."
   ]
  },
  {
   "cell_type": "code",
   "execution_count": 2,
   "metadata": {},
   "outputs": [
    {
     "name": "stdout",
     "output_type": "stream",
     "text": [
      "Collecting linearmodelsNote: you may need to restart the kernel to use updated packages.\n",
      "  Downloading linearmodels-4.24-cp37-cp37m-win_amd64.whl (1.6 MB)\n",
      "Requirement already satisfied: pandas>=0.24 in c:\\users\\malkii\\anaconda3\\envs\\rstudio-\\lib\\site-packages (from linearmodels) (1.3.4)\n",
      "Collecting property-cached>=1.6.3\n",
      "  Downloading property_cached-1.6.4-py2.py3-none-any.whl (7.8 kB)\n",
      "Requirement already satisfied: scipy>=1.2 in c:\\users\\malkii\\anaconda3\\envs\\rstudio-\\lib\\site-packages (from linearmodels) (1.7.1)\n",
      "Requirement already satisfied: numpy>=1.16 in c:\\users\\malkii\\anaconda3\\envs\\rstudio-\\lib\\site-packages (from linearmodels) (1.21.3)\n",
      "\n",
      "Requirement already satisfied: statsmodels>=0.11 in c:\\users\\malkii\\anaconda3\\envs\\rstudio-\\lib\\site-packages (from linearmodels) (0.13.0)\n",
      "Collecting mypy-extensions>=0.4\n",
      "  Downloading mypy_extensions-0.4.3-py2.py3-none-any.whl (4.5 kB)\n",
      "Requirement already satisfied: patsy in c:\\users\\malkii\\anaconda3\\envs\\rstudio-\\lib\\site-packages (from linearmodels) (0.5.2)\n",
      "Collecting Cython>=0.29.21\n",
      "  Downloading Cython-0.29.24-cp37-cp37m-win_amd64.whl (1.6 MB)\n",
      "Collecting pyhdfe>=0.1\n",
      "  Downloading pyhdfe-0.1.0-py3-none-any.whl (18 kB)\n",
      "Requirement already satisfied: python-dateutil>=2.7.3 in c:\\users\\malkii\\anaconda3\\envs\\rstudio-\\lib\\site-packages (from pandas>=0.24->linearmodels) (2.8.2)\n",
      "Requirement already satisfied: pytz>=2017.3 in c:\\users\\malkii\\anaconda3\\envs\\rstudio-\\lib\\site-packages (from pandas>=0.24->linearmodels) (2021.3)\n",
      "Requirement already satisfied: six in c:\\users\\malkii\\anaconda3\\envs\\rstudio-\\lib\\site-packages (from patsy->linearmodels) (1.16.0)\n",
      "Installing collected packages: pyhdfe, property-cached, mypy-extensions, Cython, linearmodels\n",
      "Successfully installed Cython-0.29.24 linearmodels-4.24 mypy-extensions-0.4.3 property-cached-1.6.4 pyhdfe-0.1.0\n"
     ]
    }
   ],
   "source": [
    "pip install linearmodels"
   ]
  },
  {
   "cell_type": "code",
   "execution_count": 3,
   "metadata": {
    "scrolled": false
   },
   "outputs": [
    {
     "name": "stdout",
     "output_type": "stream",
     "text": [
      "                            OLS Regression Results                            \n",
      "==============================================================================\n",
      "Dep. Variable:                  lwage   R-squared:                       0.103\n",
      "Model:                            OLS   Adj. R-squared:                  0.101\n",
      "Method:                 Least Squares   F-statistic:                     53.62\n",
      "Date:                Wed, 27 Oct 2021   Prob (F-statistic):           9.12e-23\n",
      "Time:                        10:10:30   Log-Likelihood:                -466.72\n",
      "No. Observations:                 935   AIC:                             939.4\n",
      "Df Residuals:                     932   BIC:                             954.0\n",
      "Df Model:                           2                                         \n",
      "Covariance Type:            nonrobust                                         \n",
      "==============================================================================\n",
      "                 coef    std err          t      P>|t|      [0.025      0.975]\n",
      "------------------------------------------------------------------------------\n",
      "Intercept      6.1504      0.109     56.534      0.000       5.937       6.364\n",
      "educ           0.0612      0.006     10.243      0.000       0.049       0.073\n",
      "hours         -0.0044      0.002     -2.448      0.015      -0.008      -0.001\n",
      "==============================================================================\n",
      "Omnibus:                       28.032   Durbin-Watson:                   1.765\n",
      "Prob(Omnibus):                  0.000   Jarque-Bera (JB):               34.519\n",
      "Skew:                          -0.340   Prob(JB):                     3.19e-08\n",
      "Kurtosis:                       3.651   Cond. No.                         388.\n",
      "==============================================================================\n",
      "\n",
      "Notes:\n",
      "[1] Standard Errors assume that the covariance matrix of the errors is correctly specified.\n",
      "                          IV-2SLS Estimation Summary                          \n",
      "==============================================================================\n",
      "Dep. Variable:                   wage   R-squared:                     -0.0127\n",
      "Estimator:                    IV-2SLS   Adj. R-squared:                -0.0148\n",
      "No. Observations:                 935   F-statistic:                    24.339\n",
      "Date:                Wed, Oct 27 2021   P-value (F-stat)                0.0000\n",
      "Time:                        10:10:30   Distribution:                  chi2(2)\n",
      "Cov. Estimator:            unadjusted                                         \n",
      "                                                                              \n",
      "                             Parameter Estimates                              \n",
      "==============================================================================\n",
      "            Parameter  Std. Err.     T-stat    P-value    Lower CI    Upper CI\n",
      "------------------------------------------------------------------------------\n",
      "const          5.3475     0.3398     15.737     0.0000      4.6815      6.0135\n",
      "hours         -0.0063     0.0021    -3.0422     0.0023     -0.0103     -0.0022\n",
      "educ           0.1267     0.0268     4.7202     0.0000      0.0741      0.1793\n",
      "==============================================================================\n",
      "\n",
      "Endogenous: educ\n",
      "Instruments: sibs\n",
      "Unadjusted Covariance (Homoskedastic)\n",
      "Debiased: False\n"
     ]
    }
   ],
   "source": [
    "# Illustrating the basic use of 2SLS Estimator \n",
    "\n",
    "import pandas as pd\n",
    "import numpy as np\n",
    "import statsmodels.api as sm\n",
    "from linearmodels.iv import IV2SLS\n",
    "from linearmodels.datasets import wage\n",
    "\n",
    "import matplotlib.pyplot as plt\n",
    "import statsmodels.formula.api as smf\n",
    "import statsmodels.stats.api as sms\n",
    "from statsmodels.stats.diagnostic import het_white\n",
    "from statsmodels.compat import lzip \n",
    "import statsmodels.api as sm\n",
    "\n",
    "#loading data\n",
    "\n",
    "data=pd.read_excel('C:/IssamMalki/Python Codes/Predictive Analytics Sessions/nls80.xls')\n",
    "\n",
    "# Setting up the model using OLS regression\n",
    "\n",
    "\n",
    "formula='lwage ~ educ + hours'  \n",
    "ols_output=smf.ols(formula, data).fit()  \n",
    "print(ols_output.summary())\n",
    "\n",
    "# Available options: \n",
    "#.fit(cov_type='HC1') to correct for heteroskedasticity\n",
    "#.fit(cov_type='HAC',cov_kwds={'maxlags':1, 'use_correction':True}) to correct for both heteroskedasticity and autocorrelation\n",
    "\n",
    "\n",
    "\n",
    "# Setting up the model using 2SLS\n",
    "dependent = np.log(data.wage)\n",
    "exog = sm.add_constant(data.hours)\n",
    "endog = data.educ\n",
    "instruments = data.sibs\n",
    "\n",
    "mod = IV2SLS(dependent, exog, endog, instruments)\n",
    "iv_output = mod.fit(cov_type='unadjusted')\n",
    "print(iv_output)\n",
    "\n",
    "#  Available cov_type options:\n",
    "# ‘unadjusted’, ‘homoskedastic’ - Assumes moment conditions are homoskedastic\n",
    "# ‘robust’, ‘heteroskedastic’ - Allows for heteroskedasticity by not autocorrelation\n",
    "# ‘kernel’ - Allows for heteroskedasticity and autocorrelation\n",
    "# ‘cluster’ - Allows for one-way cluster dependence\n"
   ]
  }
 ],
 "metadata": {
  "kernelspec": {
   "display_name": "Python 3 (ipykernel)",
   "language": "python",
   "name": "python3"
  },
  "language_info": {
   "codemirror_mode": {
    "name": "ipython",
    "version": 3
   },
   "file_extension": ".py",
   "mimetype": "text/x-python",
   "name": "python",
   "nbconvert_exporter": "python",
   "pygments_lexer": "ipython3",
   "version": "3.7.1"
  }
 },
 "nbformat": 4,
 "nbformat_minor": 2
}
